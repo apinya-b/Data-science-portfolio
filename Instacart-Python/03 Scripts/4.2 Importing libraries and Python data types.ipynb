{
 "cells": [
  {
   "cell_type": "markdown",
   "id": "773ef614",
   "metadata": {},
   "source": [
    "#01. Importing Libraries"
   ]
  },
  {
   "cell_type": "markdown",
   "id": "50d45371",
   "metadata": {},
   "source": [
    "#02. Python data types"
   ]
  },
  {
   "cell_type": "code",
   "execution_count": 1,
   "id": "1706c21d",
   "metadata": {},
   "outputs": [],
   "source": [
    "#Import libraries\n",
    "import pandas as pd\n",
    "import numpy as np\n",
    "import os"
   ]
  },
  {
   "cell_type": "code",
   "execution_count": 2,
   "id": "947287c6",
   "metadata": {},
   "outputs": [],
   "source": [
    "x = 2"
   ]
  },
  {
   "cell_type": "code",
   "execution_count": 3,
   "id": "debb138d",
   "metadata": {},
   "outputs": [
    {
     "data": {
      "text/plain": [
       "100"
      ]
     },
     "execution_count": 3,
     "metadata": {},
     "output_type": "execute_result"
    }
   ],
   "source": [
    "x * 50"
   ]
  },
  {
   "cell_type": "code",
   "execution_count": 7,
   "id": "a92ba5b7",
   "metadata": {},
   "outputs": [],
   "source": [
    "y = 20"
   ]
  },
  {
   "cell_type": "code",
   "execution_count": 8,
   "id": "24f0efae",
   "metadata": {},
   "outputs": [
    {
     "data": {
      "text/plain": [
       "100.0"
      ]
     },
     "execution_count": 8,
     "metadata": {},
     "output_type": "execute_result"
    }
   ],
   "source": [
    "x * y * 2.5"
   ]
  },
  {
   "cell_type": "code",
   "execution_count": 9,
   "id": "b8052317",
   "metadata": {},
   "outputs": [],
   "source": [
    "x = x * 50"
   ]
  },
  {
   "cell_type": "code",
   "execution_count": 10,
   "id": "2d222866",
   "metadata": {},
   "outputs": [
    {
     "data": {
      "text/plain": [
       "100"
      ]
     },
     "execution_count": 10,
     "metadata": {},
     "output_type": "execute_result"
    }
   ],
   "source": [
    "x * 1"
   ]
  },
  {
   "cell_type": "code",
   "execution_count": 12,
   "id": "06b6d210",
   "metadata": {},
   "outputs": [],
   "source": [
    "Investment = 558.25"
   ]
  },
  {
   "cell_type": "code",
   "execution_count": 13,
   "id": "8bf1b1a9",
   "metadata": {},
   "outputs": [],
   "source": [
    "Income = 26.36"
   ]
  },
  {
   "cell_type": "code",
   "execution_count": 14,
   "id": "a4b76a3a",
   "metadata": {},
   "outputs": [
    {
     "data": {
      "text/plain": [
       "21.177921092564493"
      ]
     },
     "execution_count": 14,
     "metadata": {},
     "output_type": "execute_result"
    }
   ],
   "source": [
    "Investment / Income"
   ]
  },
  {
   "cell_type": "code",
   "execution_count": 29,
   "id": "8ab1adc1",
   "metadata": {},
   "outputs": [],
   "source": [
    "a = 'to'"
   ]
  },
  {
   "cell_type": "code",
   "execution_count": 31,
   "id": "bd309a22",
   "metadata": {},
   "outputs": [],
   "source": [
    "b = 'ma'"
   ]
  },
  {
   "cell_type": "code",
   "execution_count": 32,
   "id": "fb8f5273",
   "metadata": {},
   "outputs": [
    {
     "data": {
      "text/plain": [
       "'tomato'"
      ]
     },
     "execution_count": 32,
     "metadata": {},
     "output_type": "execute_result"
    }
   ],
   "source": [
    "a + b + a"
   ]
  },
  {
   "cell_type": "code",
   "execution_count": 36,
   "id": "9be4d5b3",
   "metadata": {},
   "outputs": [],
   "source": [
    "c = 'good '"
   ]
  },
  {
   "cell_type": "code",
   "execution_count": 37,
   "id": "55bc17cc",
   "metadata": {},
   "outputs": [],
   "source": [
    "d = 'morning'"
   ]
  },
  {
   "cell_type": "code",
   "execution_count": 38,
   "id": "79017369",
   "metadata": {},
   "outputs": [
    {
     "data": {
      "text/plain": [
       "'good morning'"
      ]
     },
     "execution_count": 38,
     "metadata": {},
     "output_type": "execute_result"
    }
   ],
   "source": [
    "c + d"
   ]
  },
  {
   "cell_type": "code",
   "execution_count": 39,
   "id": "afeebd0b",
   "metadata": {},
   "outputs": [
    {
     "data": {
      "text/plain": [
       "'good good good good good good good good good good good good good good good good good good good good good good good good good good good good good good good good good good good good good good good good good good good good good good good good good good good good good good good good good good good good good good good good good good good good good good good good good good good good good good good good good good good good good good good good good good good good good good good good good good good good '"
      ]
     },
     "execution_count": 39,
     "metadata": {},
     "output_type": "execute_result"
    }
   ],
   "source": [
    "c * 100"
   ]
  },
  {
   "cell_type": "code",
   "execution_count": null,
   "id": "3529074b",
   "metadata": {},
   "outputs": [],
   "source": []
  }
 ],
 "metadata": {
  "kernelspec": {
   "display_name": "Python 3 (ipykernel)",
   "language": "python",
   "name": "python3"
  },
  "language_info": {
   "codemirror_mode": {
    "name": "ipython",
    "version": 3
   },
   "file_extension": ".py",
   "mimetype": "text/x-python",
   "name": "python",
   "nbconvert_exporter": "python",
   "pygments_lexer": "ipython3",
   "version": "3.11.4"
  }
 },
 "nbformat": 4,
 "nbformat_minor": 5
}
